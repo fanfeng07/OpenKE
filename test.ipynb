{
 "cells": [
  {
   "cell_type": "code",
   "execution_count": 1,
   "metadata": {},
   "outputs": [],
   "source": [
    "import torch\n",
    "import torch.nn as nn\n",
    "import os\n",
    "import numpy as np"
   ]
  },
  {
   "cell_type": "code",
   "execution_count": 7,
   "metadata": {},
   "outputs": [
    {
     "data": {
      "text/plain": "'/Users/zou/Documents/GitHub/OpenKE'"
     },
     "execution_count": 7,
     "metadata": {},
     "output_type": "execute_result"
    }
   ],
   "source": [
    "os.getcwd()"
   ]
  },
  {
   "cell_type": "code",
   "execution_count": 8,
   "metadata": {},
   "outputs": [],
   "source": [
    "epoch = 79"
   ]
  },
  {
   "cell_type": "code",
   "execution_count": 9,
   "metadata": {},
   "outputs": [],
   "source": [
    "ck = torch.load('checkpoint/ck300epoch{}.ckpt'.format(epoch))"
   ]
  },
  {
   "cell_type": "code",
   "execution_count": 3,
   "metadata": {},
   "outputs": [
    {
     "data": {
      "text/plain": "odict_keys(['zero_const', 'pi_const', 'model.zero_const', 'model.pi_const', 'model.ent_embeddings.weight', 'model.rel_embeddings.weight', 'loss.zero_const', 'loss.pi_const', 'loss.margin'])"
     },
     "execution_count": 3,
     "metadata": {},
     "output_type": "execute_result"
    }
   ],
   "source": [
    "ck.keys()"
   ]
  },
  {
   "cell_type": "code",
   "execution_count": 11,
   "metadata": {},
   "outputs": [
    {
     "data": {
      "text/plain": "tensor([0.])"
     },
     "execution_count": 11,
     "metadata": {},
     "output_type": "execute_result"
    }
   ],
   "source": [
    "# ck['model.rel_embeddings.weight']\n",
    "ck['model.zero_const']"
   ]
  },
  {
   "cell_type": "code",
   "execution_count": 24,
   "metadata": {},
   "outputs": [
    {
     "name": "stdout",
     "output_type": "stream",
     "text": [
      "['check']\n",
      "['check', 'o']\n",
      "['check', 'o', 'benchmarks']\n",
      "['check', 'o', 'benchmarks', 0, 1, 2, 3, 4, 5]\n"
     ]
    }
   ],
   "source": [
    "arr = os.listdir()\n",
    "arr\n",
    "out = []\n",
    "for n in arr:\n",
    "    if 'k' in n:\n",
    "        out.append(n.split('p')[0])\n",
    "        print(out)\n",
    "\n",
    "for i in range(6):\n",
    "    out.append(i)\n",
    "print(out)"
   ]
  },
  {
   "cell_type": "code",
   "execution_count": 20,
   "metadata": {},
   "outputs": [
    {
     "data": {
      "text/plain": "[1, 2, 3]"
     },
     "execution_count": 20,
     "metadata": {},
     "output_type": "execute_result"
    }
   ],
   "source": [
    "num = [3,2,1]\n",
    "sorted(num)"
   ]
  },
  {
   "cell_type": "code",
   "execution_count": 4,
   "metadata": {},
   "outputs": [],
   "source": [
    "from collections import OrderedDict\n",
    "new_dict = OrderedDict()\n",
    "new_dict['zero_const'] = ck['model.zero_const']\n",
    "new_dict['pi_const'] = ck['model.pi_const']\n",
    "new_dict['ent_embeddings.weight'] = ck['model.ent_embeddings.weight']\n",
    "new_dict['rel_embeddings.weight'] = ck['model.rel_embeddings.weight']\n",
    "torch.save(new_dict, 'checkpoint/mid579.ckpt')"
   ]
  },
  {
   "cell_type": "code",
   "execution_count": 5,
   "metadata": {},
   "outputs": [
    {
     "data": {
      "text/plain": "odict_keys(['zero_const', 'pi_const', 'ent_embeddings.weight', 'rel_embeddings.weight'])"
     },
     "execution_count": 5,
     "metadata": {},
     "output_type": "execute_result"
    }
   ],
   "source": [
    "ck2 = torch.load('checkpoint/mid579.ckpt')\n",
    "ck2.keys()"
   ]
  },
  {
   "cell_type": "code",
   "execution_count": 6,
   "metadata": {},
   "outputs": [
    {
     "data": {
      "text/plain": "tensor([[-0.0032, -0.0125, -0.0067,  ...,  0.0049,  0.0055, -0.0064],\n        [ 0.0061, -0.0267, -0.0005,  ..., -0.0206,  0.0246, -0.0062],\n        [-0.0083,  0.0059,  0.0008,  ..., -0.0041,  0.0018, -0.0055],\n        ...,\n        [-0.0039, -0.0032,  0.0054,  ...,  0.0026,  0.0044, -0.0076],\n        [ 0.0049,  0.0049,  0.0012,  ...,  0.0062,  0.0068, -0.0058],\n        [ 0.0045,  0.0052, -0.0042,  ..., -0.0096,  0.0035,  0.0009]])"
     },
     "execution_count": 6,
     "metadata": {},
     "output_type": "execute_result"
    }
   ],
   "source": [
    "ck2['ent_embeddings.weight']"
   ]
  },
  {
   "cell_type": "code",
   "execution_count": null,
   "metadata": {},
   "outputs": [],
   "source": []
  }
 ],
 "metadata": {
  "kernelspec": {
   "display_name": "Python 3.8.2 64-bit ('kg': conda)",
   "name": "python382jvsc74a57bd0588c1f70b859f38a452d55dc49e2fb8f9a5c2f8a3f02fc7365667c8d4a5e32b4"
  },
  "language_info": {
   "codemirror_mode": {
    "name": "ipython",
    "version": 3
   },
   "file_extension": ".py",
   "mimetype": "text/x-python",
   "name": "python",
   "nbconvert_exporter": "python",
   "pygments_lexer": "ipython3",
   "version": "3.8.2"
  },
  "orig_nbformat": 2
 },
 "nbformat": 4,
 "nbformat_minor": 2
}